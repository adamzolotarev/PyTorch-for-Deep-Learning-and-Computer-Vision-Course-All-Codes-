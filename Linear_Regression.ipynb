{
 "cells": [
  {
   "cell_type": "code",
   "execution_count": 1,
   "metadata": {
    "colab": {
     "base_uri": "https://localhost:8080/",
     "height": 1020
    },
    "colab_type": "code",
    "collapsed": true,
    "id": "oHxQbKZci27E",
    "outputId": "703199c8-c579-4894-bd44-1bc1e8317fd1"
   },
   "outputs": [],
   "source": [
    "# !pip3 install torch\n"
   ]
  },
  {
   "cell_type": "code",
   "execution_count": 3,
   "metadata": {
    "colab": {},
    "colab_type": "code",
    "id": "g90d_JwFi8I7"
   },
   "outputs": [
    {
     "name": "stdout",
     "output_type": "stream",
     "text": [
      "1.0.1.post2\n"
     ]
    }
   ],
   "source": [
    "import torch\n",
    "import torch.nn as nn\n",
    "import matplotlib.pyplot as plt\n",
    "import numpy as np\n",
    "import torch\n",
    "print(torch.__version__)"
   ]
  },
  {
   "cell_type": "code",
   "execution_count": 4,
   "metadata": {
    "colab": {
     "base_uri": "https://localhost:8080/",
     "height": 378
    },
    "colab_type": "code",
    "id": "BkdXhIlXvKzM",
    "outputId": "9ea4075e-1585-4c9b-d057-4a948cb87611"
   },
   "outputs": [
    {
     "data": {
      "image/png": "[encoded data removed]",
      "text/plain": [
       "<matplotlib.figure.Figure at 0x10d39bd30>"
      ]
     },
     "metadata": {},
     "output_type": "display_data"
    }
   ],
   "source": [
    "# 100 rows and 1 column, each point has a \n",
    "# single point with a normal distribution\n",
    "X = torch.randn(100, 1)*10\n",
    "y = X + 3*torch.randn(100, 1)\n",
    "plt.plot(X.numpy(), y.numpy(), 'o')\n",
    "plt.ylabel('y')\n",
    "plt.xlabel('x')\n",
    "plt.show()"
   ]
  },
  {
   "cell_type": "code",
   "execution_count": 5,
   "metadata": {
    "colab": {},
    "colab_type": "code",
    "collapsed": true,
    "id": "Voo3RX1IYz21"
   },
   "outputs": [],
   "source": [
    "class LR(nn.Module):\n",
    "  def __init__(self, input_size, output_size):\n",
    "    super().__init__() \n",
    "    self.linear = nn.Linear(input_size, output_size)\n",
    "  def forward(self, x):\n",
    "    pred = self.linear(x)\n",
    "    return pred"
   ]
  },
  {
   "cell_type": "code",
   "execution_count": 6,
   "metadata": {
    "colab": {
     "base_uri": "https://localhost:8080/",
     "height": 68
    },
    "colab_type": "code",
    "id": "PeyVS6V_aBfy",
    "outputId": "84dbdbae-8cd6-4d39-ac3b-862c9c0df5c9"
   },
   "outputs": [
    {
     "name": "stdout",
     "output_type": "stream",
     "text": [
      "LR(\n",
      "  (linear): Linear(in_features=1, out_features=1, bias=True)\n",
      ")\n"
     ]
    }
   ],
   "source": [
    "torch.manual_seed(1)\n",
    "model = LR(1, 1)\n",
    "print(model)"
   ]
  },
  {
   "cell_type": "code",
   "execution_count": 7,
   "metadata": {
    "colab": {},
    "colab_type": "code",
    "collapsed": true,
    "id": "e1HHLRTbaeZF"
   },
   "outputs": [],
   "source": [
    "[w, b] = model.parameters()\n",
    "# print(w, b)\n",
    "def get_params():\n",
    "  return (w[0][0].item(), b[0].item())"
   ]
  },
  {
   "cell_type": "code",
   "execution_count": 8,
   "metadata": {
    "colab": {},
    "colab_type": "code",
    "collapsed": true,
    "id": "x1bjDI3vxEmd"
   },
   "outputs": [],
   "source": [
    "def plot_fit(title):\n",
    "  plt.title = title\n",
    "  w1, b1 = get_params()\n",
    "  x1 = np.array([-30, 30])\n",
    "  y1 = w1*x1 + b1\n",
    "  plt.plot(x1, y1, 'r')\n",
    "  plt.scatter(X, y)\n",
    "  plt.show()"
   ]
  },
  {
   "cell_type": "code",
   "execution_count": 9,
   "metadata": {
    "colab": {
     "base_uri": "https://localhost:8080/",
     "height": 347
    },
    "colab_type": "code",
    "id": "wYEJKbTEy2Ci",
    "outputId": "162542b8-3a08-4cdf-c8d3-74f6670f0eb7"
   },
   "outputs": [
    {
     "data": {
      "image/png": "[encoded data removed]",
      "text/plain": [
       "<matplotlib.figure.Figure at 0x11342cbe0>"
      ]
     },
     "metadata": {},
     "output_type": "display_data"
    }
   ],
   "source": [
    "plot_fit('Initial Model')"
   ]
  },
  {
   "cell_type": "code",
   "execution_count": 0,
   "metadata": {
    "colab": {},
    "colab_type": "code",
    "collapsed": true,
    "id": "4Z9-HIA0y5S7"
   },
   "outputs": [],
   "source": [
    "criterion = nn.MSELoss()\n",
    "optimizer = torch.optim.SGD(model.parameters(), lr = 0.01)"
   ]
  },
  {
   "cell_type": "code",
   "execution_count": 10,
   "metadata": {
    "colab": {
     "base_uri": "https://localhost:8080/",
     "height": 1717
    },
    "colab_type": "code",
    "id": "wu4Qzn3PCeJ9",
    "outputId": "bcdc1419-824e-4bd5-d697-a66955589708"
   },
   "outputs": [
    {
     "name": "stdout",
     "output_type": "stream",
     "text": [
      "epoch: 0 loss: 34.606773376464844\n",
      "epoch: 1 loss: 32.641448974609375\n",
      "epoch: 2 loss: 30.837696075439453\n",
      "epoch: 3 loss: 29.182172775268555\n",
      "epoch: 4 loss: 27.662689208984375\n",
      "epoch: 5 loss: 26.2680606842041\n",
      "epoch: 6 loss: 24.987957000732422\n",
      "epoch: 7 loss: 23.813003540039062\n",
      "epoch: 8 loss: 22.734525680541992\n",
      "epoch: 9 loss: 21.744590759277344\n",
      "epoch: 10 loss: 20.835914611816406\n",
      "epoch: 11 loss: 20.001802444458008\n",
      "epoch: 12 loss: 19.236114501953125\n",
      "epoch: 13 loss: 18.533241271972656\n",
      "epoch: 14 loss: 17.88799285888672\n",
      "epoch: 15 loss: 17.295654296875\n",
      "epoch: 16 loss: 16.751863479614258\n",
      "epoch: 17 loss: 16.252628326416016\n",
      "epoch: 18 loss: 15.794288635253906\n",
      "epoch: 19 loss: 15.373481750488281\n",
      "epoch: 20 loss: 14.987119674682617\n",
      "epoch: 21 loss: 14.632369995117188\n",
      "epoch: 22 loss: 14.306648254394531\n",
      "epoch: 23 loss: 14.007560729980469\n",
      "epoch: 24 loss: 13.73292064666748\n",
      "epoch: 25 loss: 13.480721473693848\n",
      "epoch: 26 loss: 13.249117851257324\n",
      "epoch: 27 loss: 13.036426544189453\n",
      "epoch: 28 loss: 12.841087341308594\n",
      "epoch: 29 loss: 12.661684036254883\n",
      "epoch: 30 loss: 12.496904373168945\n",
      "epoch: 31 loss: 12.345552444458008\n",
      "epoch: 32 loss: 12.206522941589355\n",
      "epoch: 33 loss: 12.078808784484863\n",
      "epoch: 34 loss: 11.9614839553833\n",
      "epoch: 35 loss: 11.853694915771484\n",
      "epoch: 36 loss: 11.754661560058594\n",
      "epoch: 37 loss: 11.663664817810059\n",
      "epoch: 38 loss: 11.58005142211914\n",
      "epoch: 39 loss: 11.503213882446289\n",
      "epoch: 40 loss: 11.432601928710938\n",
      "epoch: 41 loss: 11.367704391479492\n",
      "epoch: 42 loss: 11.308053016662598\n",
      "epoch: 43 loss: 11.25322151184082\n",
      "epoch: 44 loss: 11.202813148498535\n",
      "epoch: 45 loss: 11.156472206115723\n",
      "epoch: 46 loss: 11.113862991333008\n",
      "epoch: 47 loss: 11.074682235717773\n",
      "epoch: 48 loss: 11.038651466369629\n",
      "epoch: 49 loss: 11.005512237548828\n",
      "epoch: 50 loss: 10.975030899047852\n",
      "epoch: 51 loss: 10.946990013122559\n",
      "epoch: 52 loss: 10.92119312286377\n",
      "epoch: 53 loss: 10.897455215454102\n",
      "epoch: 54 loss: 10.875611305236816\n",
      "epoch: 55 loss: 10.855506896972656\n",
      "epoch: 56 loss: 10.83700180053711\n",
      "epoch: 57 loss: 10.819965362548828\n",
      "epoch: 58 loss: 10.804278373718262\n",
      "epoch: 59 loss: 10.789833068847656\n",
      "epoch: 60 loss: 10.776528358459473\n",
      "epoch: 61 loss: 10.764272689819336\n",
      "epoch: 62 loss: 10.75298023223877\n",
      "epoch: 63 loss: 10.742575645446777\n",
      "epoch: 64 loss: 10.732985496520996\n",
      "epoch: 65 loss: 10.72414493560791\n",
      "epoch: 66 loss: 10.715993881225586\n",
      "epoch: 67 loss: 10.708476066589355\n",
      "epoch: 68 loss: 10.701542854309082\n",
      "epoch: 69 loss: 10.695145606994629\n",
      "epoch: 70 loss: 10.689242362976074\n",
      "epoch: 71 loss: 10.683794021606445\n",
      "epoch: 72 loss: 10.678763389587402\n",
      "epoch: 73 loss: 10.674118041992188\n",
      "epoch: 74 loss: 10.66982650756836\n",
      "epoch: 75 loss: 10.665861129760742\n",
      "epoch: 76 loss: 10.66219711303711\n",
      "epoch: 77 loss: 10.658808708190918\n",
      "epoch: 78 loss: 10.65567684173584\n",
      "epoch: 79 loss: 10.652778625488281\n",
      "epoch: 80 loss: 10.650097846984863\n",
      "epoch: 81 loss: 10.647615432739258\n",
      "epoch: 82 loss: 10.645318031311035\n",
      "epoch: 83 loss: 10.643189430236816\n",
      "epoch: 84 loss: 10.641217231750488\n",
      "epoch: 85 loss: 10.639389038085938\n",
      "epoch: 86 loss: 10.637694358825684\n",
      "epoch: 87 loss: 10.636122703552246\n",
      "epoch: 88 loss: 10.634663581848145\n",
      "epoch: 89 loss: 10.633308410644531\n",
      "epoch: 90 loss: 10.632051467895508\n",
      "epoch: 91 loss: 10.63088321685791\n",
      "epoch: 92 loss: 10.629796981811523\n",
      "epoch: 93 loss: 10.62878704071045\n",
      "epoch: 94 loss: 10.627848625183105\n",
      "epoch: 95 loss: 10.626974105834961\n",
      "epoch: 96 loss: 10.626160621643066\n",
      "epoch: 97 loss: 10.625402450561523\n",
      "epoch: 98 loss: 10.624695777893066\n",
      "epoch: 99 loss: 10.62403678894043\n"
     ]
    }
   ],
   "source": [
    "epochs = 100\n",
    "losses = []\n",
    "for i in range(epochs):\n",
    "  y_pred = model.forward(X)\n",
    "  loss = criterion(y_pred, y)\n",
    "  print(\"epoch:\", i, \"loss:\", loss.item())\n",
    "  \n",
    "  losses.append(loss)\n",
    "  optimizer.zero_grad()\n",
    "  loss.backward() #computes the derivative of the loss function\n",
    "  optimizer.step() #magically uses the loss dirivative to updat the model weight"
   ]
  },
  {
   "cell_type": "code",
   "execution_count": 11,
   "metadata": {
    "colab": {
     "base_uri": "https://localhost:8080/",
     "height": 378
    },
    "colab_type": "code",
    "id": "j3D-8o6MDXO9",
    "outputId": "dcbebc38-7284-43f1-d61b-afa252244857"
   },
   "outputs": [
    {
     "data": {
      "text/plain": [
       "Text(0.5, 0, 'epoch')"
      ]
     },
     "execution_count": 11,
     "metadata": {
      "tags": []
     },
     "output_type": "execute_result"
    },
    {
     "data": {
      "image/png": "[encoded data removed]",
      "text/plain": [
       "<Figure size 576x396 with 1 Axes>"
      ]
     },
     "metadata": {
      "tags": []
     },
     "output_type": "display_data"
    }
   ],
   "source": [
    "plt.plot(range(epochs), losses)\n",
    "plt.ylabel('Loss')\n",
    "plt.xlabel('epoch')"
   ]
  },
  {
   "cell_type": "code",
   "execution_count": 12,
   "metadata": {
    "colab": {
     "base_uri": "https://localhost:8080/",
     "height": 347
    },
    "colab_type": "code",
    "id": "VwsPWhWJFONF",
    "outputId": "99806a4f-2eca-465e-d166-ae39ea701b32",
    "scrolled": true
   },
   "outputs": [
    {
     "ename": "NameError",
     "evalue": "name 'plot_fit' is not defined",
     "output_type": "error",
     "traceback": [
      "\u001b[0;31m---------------------------------------------------------------------------\u001b[0m",
      "\u001b[0;31mNameError\u001b[0m                                 Traceback (most recent call last)",
      "\u001b[0;32m<ipython-input-12-e71e4ed397d6>\u001b[0m in \u001b[0;36m<module>\u001b[0;34m()\u001b[0m\n\u001b[0;32m----> 1\u001b[0;31m \u001b[0mplot_fit\u001b[0m\u001b[0;34m(\u001b[0m\u001b[0;34m\"Trained Model\"\u001b[0m\u001b[0;34m)\u001b[0m\u001b[0;34m\u001b[0m\u001b[0m\n\u001b[0m",
      "\u001b[0;31mNameError\u001b[0m: name 'plot_fit' is not defined"
     ]
    }
   ],
   "source": [
    "plot_fit(\"Trained Model\")"
   ]
  },
  {
   "cell_type": "code",
   "execution_count": null,
   "metadata": {
    "colab": {},
    "colab_type": "code",
    "collapsed": true,
    "id": "Eyc77EKUFYgZ"
   },
   "outputs": [],
   "source": [
    "\n"
   ]
  },
  {
   "cell_type": "code",
   "execution_count": null,
   "metadata": {
    "collapsed": true
   },
   "outputs": [],
   "source": []
  }
 ],
 "metadata": {
  "colab": {
   "name": "Linear Regression.ipynb",
   "provenance": [],
   "version": "0.3.2"
  },
  "kernelspec": {
   "display_name": "Python 3",
   "language": "python",
   "name": "python3"
  },
  "language_info": {
   "codemirror_mode": {
    "name": "ipython",
    "version": 3
   },
   "file_extension": ".py",
   "mimetype": "text/x-python",
   "name": "python",
   "nbconvert_exporter": "python",
   "pygments_lexer": "ipython3",
   "version": "3.6.3"
  }
 },
 "nbformat": 4,
 "nbformat_minor": 1
}
